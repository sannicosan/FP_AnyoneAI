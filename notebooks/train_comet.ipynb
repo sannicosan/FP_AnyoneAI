{
 "cells": [
  {
   "cell_type": "code",
   "execution_count": 36,
   "metadata": {},
   "outputs": [],
   "source": [
    "import comet_ml"
   ]
  },
  {
   "cell_type": "code",
   "execution_count": 10,
   "metadata": {},
   "outputs": [],
   "source": [
    "! export COMET_API_KEY= \"rlkvOiBksvPGoeDbeyzRZikru\"\n",
    "! export COMET_PROJECT_NAME=\"sku-missing\"\n"
   ]
  },
  {
   "cell_type": "code",
   "execution_count": 14,
   "metadata": {},
   "outputs": [
    {
     "name": "stderr",
     "output_type": "stream",
     "text": [
      "COMET INFO: Comet API key is valid\n"
     ]
    }
   ],
   "source": [
    "comet_ml.init(project_name = 'sku-missing')"
   ]
  },
  {
   "cell_type": "code",
   "execution_count": 35,
   "metadata": {},
   "outputs": [
    {
     "name": "stdout",
     "output_type": "stream",
     "text": [
      "Cloning into '../yolov5'...\n",
      "remote: Enumerating objects: 14845, done.\u001b[K\n",
      "remote: Counting objects: 100% (190/190), done.\u001b[K\n",
      "remote: Compressing objects: 100% (77/77), done.\u001b[K\n",
      "remote: Total 14845 (delta 130), reused 162 (delta 113), pack-reused 14655\u001b[K\n",
      "Receiving objects: 100% (14845/14845), 13.88 MiB | 13.00 MiB/s, done.\n",
      "Resolving deltas: 100% (10213/10213), done.\n",
      "Updating files: 100% (147/147), done.\n"
     ]
    }
   ],
   "source": [
    "# !git clone https://github.com/ultralytics/yolov5 \"../yolov5\"\n",
    "%cd \"../yolov5\"\n",
    "\n",
    "# For the first time, run:  `!git clone https://github.com/ultralytics/yolov5 ` \n",
    "!git pull"
   ]
  },
  {
   "cell_type": "code",
   "execution_count": 18,
   "metadata": {},
   "outputs": [
    {
     "name": "stdout",
     "output_type": "stream",
     "text": [
      "\u001b[34m\u001b[1mtrain: \u001b[0mweights=yolov5m.pt, cfg=, data=../data/SKU_2K/yolo_data.yaml, hyp=data/hyps/hyp.scratch-low.yaml, epochs=25, batch_size=16, imgsz=640, rect=False, resume=False, nosave=False, noval=False, noautoanchor=False, noplots=False, evolve=None, bucket=, cache=None, image_weights=False, device=, multi_scale=False, single_cls=False, optimizer=SGD, sync_bn=False, workers=8, project=runs/train, name=exp, exist_ok=False, quad=False, cos_lr=False, label_smoothing=0.0, patience=100, freeze=[0], save_period=-1, seed=0, local_rank=-1, entity=None, upload_dataset=False, bbox_interval=-1, artifact_alias=latest\n",
      "\u001b[34m\u001b[1mgithub: \u001b[0mup to date with https://github.com/ultralytics/yolov5 ✅\n",
      "YOLOv5 🚀 v7.0-42-g5545ff3 Python-3.8.10 torch-1.10.0+cu111 CUDA:0 (Tesla K80, 11441MiB)\n",
      "\n",
      "\u001b[34m\u001b[1mhyperparameters: \u001b[0mlr0=0.01, lrf=0.01, momentum=0.937, weight_decay=0.0005, warmup_epochs=3.0, warmup_momentum=0.8, warmup_bias_lr=0.1, box=0.05, cls=0.5, cls_pw=1.0, obj=1.0, obj_pw=1.0, iou_t=0.2, anchor_t=4.0, fl_gamma=0.0, hsv_h=0.015, hsv_s=0.7, hsv_v=0.4, degrees=0.0, translate=0.1, scale=0.5, shear=0.0, perspective=0.0, flipud=0.0, fliplr=0.5, mosaic=1.0, mixup=0.0, copy_paste=0.0\n",
      "\u001b[34m\u001b[1mClearML: \u001b[0mrun 'pip install clearml' to automatically track, visualize and remotely train YOLOv5 🚀 in ClearML\n",
      "\u001b[34m\u001b[1mTensorBoard: \u001b[0mStart with 'tensorboard --logdir runs/train', view at http://localhost:6006/\n",
      "COMET WARNING: Comet has disabled auto-logging functionality as it has been imported after the following ML modules: tensorboard, torch. Metrics and hyperparameters can still be logged using comet_ml.log_metrics() and comet_ml.log_parameters()\n",
      "COMET INFO: CUDA_VISIBLE_DEVICES is unset, defaulting to all devices\n",
      "COMET INFO: devices to report: ['GPU-7bbbc95e-7bfa-74c9-d667-3531faaafb97']\n",
      "COMET INFO: Experiment is live on comet.com https://www.comet.com/sannicosan/sku-missing/bcb384b0f6c74fa39ca91cf05976b2c2\n",
      "\n",
      "Overriding model.yaml nc=80 with nc=2\n",
      "\n",
      "                 from  n    params  module                                  arguments                     \n",
      "  0                -1  1      5280  models.common.Conv                      [3, 48, 6, 2, 2]              \n",
      "  1                -1  1     41664  models.common.Conv                      [48, 96, 3, 2]                \n",
      "  2                -1  2     65280  models.common.C3                        [96, 96, 2]                   \n",
      "  3                -1  1    166272  models.common.Conv                      [96, 192, 3, 2]               \n",
      "  4                -1  4    444672  models.common.C3                        [192, 192, 4]                 \n",
      "  5                -1  1    664320  models.common.Conv                      [192, 384, 3, 2]              \n",
      "  6                -1  6   2512896  models.common.C3                        [384, 384, 6]                 \n",
      "  7                -1  1   2655744  models.common.Conv                      [384, 768, 3, 2]              \n",
      "  8                -1  2   4134912  models.common.C3                        [768, 768, 2]                 \n",
      "  9                -1  1   1476864  models.common.SPPF                      [768, 768, 5]                 \n",
      " 10                -1  1    295680  models.common.Conv                      [768, 384, 1, 1]              \n",
      " 11                -1  1         0  torch.nn.modules.upsampling.Upsample    [None, 2, 'nearest']          \n",
      " 12           [-1, 6]  1         0  models.common.Concat                    [1]                           \n",
      " 13                -1  2   1182720  models.common.C3                        [768, 384, 2, False]          \n",
      " 14                -1  1     74112  models.common.Conv                      [384, 192, 1, 1]              \n",
      " 15                -1  1         0  torch.nn.modules.upsampling.Upsample    [None, 2, 'nearest']          \n",
      " 16           [-1, 4]  1         0  models.common.Concat                    [1]                           \n",
      " 17                -1  2    296448  models.common.C3                        [384, 192, 2, False]          \n",
      " 18                -1  1    332160  models.common.Conv                      [192, 192, 3, 2]              \n",
      " 19          [-1, 14]  1         0  models.common.Concat                    [1]                           \n",
      " 20                -1  2   1035264  models.common.C3                        [384, 384, 2, False]          \n",
      " 21                -1  1   1327872  models.common.Conv                      [384, 384, 3, 2]              \n",
      " 22          [-1, 10]  1         0  models.common.Concat                    [1]                           \n",
      " 23                -1  2   4134912  models.common.C3                        [768, 768, 2, False]          \n",
      " 24      [17, 20, 23]  1     28287  models.yolo.Detect                      [2, [[10, 13, 16, 30, 33, 23], [30, 61, 62, 45, 59, 119], [116, 90, 156, 198, 373, 326]], [192, 384, 768]]\n",
      "Model summary: 291 layers, 20875359 parameters, 20875359 gradients, 48.2 GFLOPs\n",
      "\n",
      "Traceback (most recent call last):\n",
      "  File \"../yolov5/train.py\", line 634, in <module>\n",
      "    main(opt)\n",
      "  File \"../yolov5/train.py\", line 528, in main\n",
      "    train(opt.hyp, opt, device, callbacks)\n",
      "  File \"../yolov5/train.py\", line 124, in train\n",
      "    model = Model(cfg or ckpt['model'].yaml, ch=3, nc=nc, anchors=hyp.get('anchors')).to(device)  # create\n",
      "  File \"/home/app/.local/lib/python3.8/site-packages/torch/nn/modules/module.py\", line 899, in to\n",
      "    return self._apply(convert)\n",
      "  File \"/home/app/src/yolov5/models/yolo.py\", line 155, in _apply\n",
      "    self = super()._apply(fn)\n",
      "  File \"/home/app/.local/lib/python3.8/site-packages/torch/nn/modules/module.py\", line 570, in _apply\n",
      "    module._apply(fn)\n",
      "  File \"/home/app/.local/lib/python3.8/site-packages/torch/nn/modules/module.py\", line 570, in _apply\n",
      "    module._apply(fn)\n",
      "  File \"/home/app/.local/lib/python3.8/site-packages/torch/nn/modules/module.py\", line 570, in _apply\n",
      "    module._apply(fn)\n",
      "  File \"/home/app/.local/lib/python3.8/site-packages/torch/nn/modules/module.py\", line 593, in _apply\n",
      "    param_applied = fn(param)\n",
      "  File \"/home/app/.local/lib/python3.8/site-packages/torch/nn/modules/module.py\", line 897, in convert\n",
      "    return t.to(device, dtype if t.is_floating_point() or t.is_complex() else None, non_blocking)\n",
      "RuntimeError: CUDA error: out of memory\n",
      "CUDA kernel errors might be asynchronously reported at some other API call,so the stacktrace below might be incorrect.\n",
      "For debugging consider passing CUDA_LAUNCH_BLOCKING=1.\n",
      "COMET INFO: ---------------------------\n",
      "COMET INFO: Comet.ml Experiment Summary\n",
      "COMET INFO: ---------------------------\n",
      "COMET INFO:   Data:\n",
      "COMET INFO:     display_summary_level : 1\n",
      "COMET INFO:     url                   : https://www.comet.com/sannicosan/sku-missing/bcb384b0f6c74fa39ca91cf05976b2c2\n",
      "COMET INFO:   Others:\n",
      "COMET INFO:     Created from                : YOLOv5\n",
      "COMET INFO:     Run Path                    : sannicosan/sku-missing/bcb384b0f6c74fa39ca91cf05976b2c2\n",
      "COMET INFO:     comet_log_batch_metrics     : False\n",
      "COMET INFO:     comet_log_confusion_matrix  : True\n",
      "COMET INFO:     comet_log_per_class_metrics : False\n",
      "COMET INFO:     comet_max_image_uploads     : 100\n",
      "COMET INFO:     comet_mode                  : online\n",
      "COMET INFO:     comet_model_name            : yolov5\n",
      "COMET INFO:   Parameters:\n",
      "COMET INFO:     anchor_t           : 4.0\n",
      "COMET INFO:     artifact_alias     : latest\n",
      "COMET INFO:     batch_size         : 16\n",
      "COMET INFO:     bbox_interval      : -1\n",
      "COMET INFO:     box                : 0.05\n",
      "COMET INFO:     bucket             : \n",
      "COMET INFO:     cache              : 1\n",
      "COMET INFO:     cfg                : \n",
      "COMET INFO:     cls                : 0.5\n",
      "COMET INFO:     cls_pw             : 1.0\n",
      "COMET INFO:     copy_paste         : 0.0\n",
      "COMET INFO:     cos_lr             : False\n",
      "COMET INFO:     degrees            : 0.0\n",
      "COMET INFO:     device             : \n",
      "COMET INFO:     entity             : 1\n",
      "COMET INFO:     evolve             : 1\n",
      "COMET INFO:     exist_ok           : False\n",
      "COMET INFO:     fl_gamma           : 0.0\n",
      "COMET INFO:     fliplr             : 0.5\n",
      "COMET INFO:     flipud             : 0.0\n",
      "COMET INFO:     freeze             : [0]\n",
      "COMET INFO:     hsv_h              : 0.015\n",
      "COMET INFO:     hsv_s              : 0.7\n",
      "COMET INFO:     hsv_v              : 0.4\n",
      "COMET INFO:     hyp                : {\"anchor_t\": 4.0, \"box\": 0.05, \"cls\": 0.5, \"cls_pw\": 1.0, \"copy_paste\": 0.0, \"degrees\": 0.0, \"fl_gamma\": 0.0, \"fliplr\": 0.5, \"flipud\": 0.0, \"hsv_h\": 0.015, \"hsv_s\": 0.7, \"hsv_v\": 0.4, \"iou_t\": 0.2, \"lr0\": 0.01, \"lrf\": 0.01, \"mixup\": 0.0, \"momentum\": 0.937, \"mosaic\": 1.0, \"obj\": 1.0, \"obj_pw\": 1.0, \"perspective\": 0.0, \"scale\": 0.5, \"shear\": 0.0, \"translate\": 0.1, \"warmup_bias_lr\": 0.1, \"warmup_epochs\": 3.0, \"warmup_momentum\": 0.8, \"weight_decay\": 0.0005}\n",
      "COMET INFO:     image_weights      : False\n",
      "COMET INFO:     imgsz              : 640\n",
      "COMET INFO:     iou_t              : 0.2\n",
      "COMET INFO:     label_smoothing    : 0.0\n",
      "COMET INFO:     local_rank         : -1\n",
      "COMET INFO:     lr0                : 0.01\n",
      "COMET INFO:     lrf                : 0.01\n",
      "COMET INFO:     mixup              : 0.0\n",
      "COMET INFO:     momentum           : 0.937\n",
      "COMET INFO:     mosaic             : 1.0\n",
      "COMET INFO:     multi_scale        : False\n",
      "COMET INFO:     name               : exp\n",
      "COMET INFO:     noautoanchor       : False\n",
      "COMET INFO:     noplots            : False\n",
      "COMET INFO:     nosave             : False\n",
      "COMET INFO:     noval              : False\n",
      "COMET INFO:     obj                : 1.0\n",
      "COMET INFO:     obj_pw             : 1.0\n",
      "COMET INFO:     optimizer          : SGD\n",
      "COMET INFO:     patience           : 100\n",
      "COMET INFO:     perspective        : 0.0\n",
      "COMET INFO:     project            : runs/train\n",
      "COMET INFO:     quad               : False\n",
      "COMET INFO:     rect               : False\n",
      "COMET INFO:     resume             : False\n",
      "COMET INFO:     save_dir           : runs/train/exp6\n",
      "COMET INFO:     save_period        : -1\n",
      "COMET INFO:     scale              : 0.5\n",
      "COMET INFO:     seed               : 0\n",
      "COMET INFO:     shear              : 0.0\n",
      "COMET INFO:     single_cls         : False\n",
      "COMET INFO:     sync_bn            : False\n",
      "COMET INFO:     translate          : 0.1\n",
      "COMET INFO:     upload_dataset     : False\n",
      "COMET INFO:     val_conf_threshold : 0.001\n",
      "COMET INFO:     val_iou_threshold  : 0.6\n",
      "COMET INFO:     warmup_bias_lr     : 0.1\n",
      "COMET INFO:     warmup_epochs      : 3.0\n",
      "COMET INFO:     warmup_momentum    : 0.8\n",
      "COMET INFO:     weight_decay       : 0.0005\n",
      "COMET INFO:     workers            : 8\n",
      "COMET INFO:   Uploads:\n",
      "COMET INFO:     asset               : 3 (1.41 KB)\n",
      "COMET INFO:     environment details : 1\n",
      "COMET INFO:     installed packages  : 1\n",
      "COMET INFO:     os packages         : 1\n",
      "COMET INFO: ---------------------------\n",
      "COMET WARNING: Comet has disabled auto-logging functionality as it has been imported after the following ML modules: tensorboard, torch. Metrics and hyperparameters can still be logged using comet_ml.log_metrics() and comet_ml.log_parameters()\n",
      "COMET INFO: Uploading metrics, params, and assets to Comet before program termination (may take several seconds)\n",
      "COMET INFO: The Python SDK has 3600 seconds to finish before aborting...\n"
     ]
    }
   ],
   "source": [
    "!python3 \"../yolov5/train.py\" --img 640 --batch 16 --epochs 25 --data \"../data/SKU_2.2K/yolo_data.yaml\" --weights yolov5m.pt"
   ]
  }
 ],
 "metadata": {
  "kernelspec": {
   "display_name": "fp",
   "language": "python",
   "name": "python3"
  },
  "language_info": {
   "codemirror_mode": {
    "name": "ipython",
    "version": 3
   },
   "file_extension": ".py",
   "mimetype": "text/x-python",
   "name": "python",
   "nbconvert_exporter": "python",
   "pygments_lexer": "ipython3",
   "version": "3.8.10 (default, Jun 22 2022, 20:18:18) \n[GCC 9.4.0]"
  },
  "vscode": {
   "interpreter": {
    "hash": "f0f13ff1c2874759a8206ac369d1f4316dc9364f1b404e0bb93108280613dfa9"
   }
  }
 },
 "nbformat": 4,
 "nbformat_minor": 2
}
